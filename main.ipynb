{
 "cells": [
  {
   "cell_type": "code",
   "execution_count": 1,
   "metadata": {
    "colab": {
     "base_uri": "https://localhost:8080/",
     "height": 34
    },
    "colab_type": "code",
    "id": "8z1Z__AdASJr",
    "outputId": "20b4cbb6-eb67-498e-91bc-bf6160b9c308"
   },
   "outputs": [],
   "source": [
    "# # Run this cell to mount your Google Drive.\n",
    "# from google.colab import drive\n",
    "# drive.mount('/content/drive')"
   ]
  },
  {
   "cell_type": "code",
   "execution_count": 0,
   "metadata": {
    "colab": {},
    "colab_type": "code",
    "id": "mVCo6GH_A5I8"
   },
   "outputs": [],
   "source": [
    "import json\n",
    "import pandas as pd\n",
    "import numpy as np\n",
    "import nltk\n",
    "import spacy\n",
    "from datetime import datetime\n",
    "import gensim\n",
    "import gensim.corpora as corpora\n",
    "from gensim.models.doc2vec import Doc2Vec, TaggedDocument\n",
    "from gensim.test.utils import get_tmpfile, datapath\n",
    "from gensim.utils import simple_preprocess\n",
    "from nltk.corpus import stopwords\n",
    "import warnings\n",
    "warnings.filterwarnings(\"ignore\")"
   ]
  },
  {
   "cell_type": "code",
   "execution_count": 0,
   "metadata": {
    "colab": {
     "base_uri": "https://localhost:8080/",
     "height": 102
    },
    "colab_type": "code",
    "id": "I1TLEDJY3EOR",
    "outputId": "77841c8b-93c4-47ad-868f-bcc017d89872"
   },
   "outputs": [
    {
     "name": "stdout",
     "output_type": "stream",
     "text": [
      "[nltk_data] Downloading package punkt to /root/nltk_data...\n",
      "[nltk_data]   Package punkt is already up-to-date!\n",
      "[nltk_data] Downloading package stopwords to /root/nltk_data...\n",
      "[nltk_data]   Package stopwords is already up-to-date!\n"
     ]
    },
    {
     "data": {
      "text/plain": [
       "True"
      ]
     },
     "execution_count": 3,
     "metadata": {
      "tags": []
     },
     "output_type": "execute_result"
    }
   ],
   "source": [
    "nltk.download('punkt')\n",
    "nltk.download('stopwords')"
   ]
  },
  {
   "cell_type": "markdown",
   "metadata": {
    "colab_type": "text",
    "id": "x0yI-pvuL13q"
   },
   "source": [
    "The JSON file contains the following data points:  \n",
    "*  **url** - The Url of the article  \n",
    "*  **etitile** - Title of the article  \n",
    "*  **keywords** - Keywords related to the article, includes keywords which are found in meta tags  \n",
    "*  **description** - First 100-150 characters of content  \n",
    "*  **modified_date** - Article published date  \n",
    "*  **body** - Content of the article  \n",
    "*  **htitle** - Title found in the header  \n",
    "*  **author** - Author of the article  \n",
    "*  **id** - Id of Article  "
   ]
  },
  {
   "cell_type": "markdown",
   "metadata": {
    "colab_type": "text",
    "id": "lD1IMPO796z9"
   },
   "source": [
    "## CLEANING\n",
    "\n",
    "#### Converting JSON files to pandas df"
   ]
  },
  {
   "cell_type": "code",
   "execution_count": 0,
   "metadata": {
    "colab": {},
    "colab_type": "code",
    "id": "LDd2uVheKTiS"
   },
   "outputs": [],
   "source": [
    "# # Each JSON is a row\n",
    "# df = pd.DataFrame()\n",
    "# number_of_files = 16494\n",
    "# for i in range(number_of_files):\n",
    "#     file = open(f\"./data-final/{i}.json\", 'r')\n",
    "#     s = file.read()\n",
    "#     data = json.loads(s)\n",
    "#     dfi = pd.DataFrame([data])\n",
    "#     df = pd.concat([df, dfi], ignore_index=True)\n",
    "\n",
    "# # Saving df as a pickle\n",
    "# df.to_pickle('./data.pkl')"
   ]
  },
  {
   "cell_type": "code",
   "execution_count": 0,
   "metadata": {
    "colab": {},
    "colab_type": "code",
    "id": "cTsRyREtOOFO"
   },
   "outputs": [],
   "source": [
    "raw_df = pd.read_pickle('./data.pkl')"
   ]
  },
  {
   "cell_type": "code",
   "execution_count": 0,
   "metadata": {
    "colab": {},
    "colab_type": "code",
    "id": "fX6M3PCvw4FE"
   },
   "outputs": [],
   "source": [
    "def clean_data(raw_df):\n",
    "    '''\n",
    "    Input: raw dataframe in .pkl format\n",
    "    Output: clean datafram\n",
    "    '''\n",
    "    \n",
    "    def convert_to_dt(s):\n",
    "        try:\n",
    "            return datetime.strptime(s[5:-6], '%d %b %Y %H:%M:%S')\n",
    "        except Exception:\n",
    "            return np.nan            \n",
    "    \n",
    "    df = raw_df[['id', 'modified_date', 'etitle', 'body']]                        # Extracting only useful columns into another df   \n",
    "    df.columns = ['article_ID', 'publish_date', 'title', 'body']                  # Renaming columns\n",
    "    \n",
    "    df.drop_duplicates(subset=list(df.columns), keep='first', inplace=True)       # dropping dupliacte rows\n",
    "    \n",
    "    df['article_ID'] = df[df['article_ID'].map(len) <= 8]                         # Cleaning id and dropping null values (9 null values found in date)\n",
    "    df.dropna(inplace=True)\n",
    "    \n",
    "    df['article_ID'] = df['article_ID'].astype('int64')                           # Converting id to int from string\n",
    "    \n",
    "    \n",
    "    df['publish_date'] = df['publish_date'].apply(convert_to_dt)\n",
    "    df.dropna(inplace=True)                                                       # Some date values were corrupted so dropped them\n",
    "    \n",
    "    df.sort_values(by='publish_date', axis=0, inplace=True)\n",
    "    df.drop_duplicates(subset=['body'], keep='first', inplace=True)               # There were repeated values in the body column, so dropped all except the one published first\n",
    "    \n",
    "    return df"
   ]
  },
  {
   "cell_type": "code",
   "execution_count": 0,
   "metadata": {
    "colab": {},
    "colab_type": "code",
    "id": "If9_8oQtyu51"
   },
   "outputs": [],
   "source": [
    "df = clean_data(raw_df)"
   ]
  },
  {
   "cell_type": "code",
   "execution_count": 0,
   "metadata": {
    "colab": {
     "base_uri": "https://localhost:8080/",
     "height": 204
    },
    "colab_type": "code",
    "id": "3p0HNlFd0Ny0",
    "outputId": "3cfbae8b-dfbf-4f8d-e1ef-f2bba96fe7a1"
   },
   "outputs": [
    {
     "data": {
      "text/html": [
       "<div>\n",
       "<style scoped>\n",
       "    .dataframe tbody tr th:only-of-type {\n",
       "        vertical-align: middle;\n",
       "    }\n",
       "\n",
       "    .dataframe tbody tr th {\n",
       "        vertical-align: top;\n",
       "    }\n",
       "\n",
       "    .dataframe thead th {\n",
       "        text-align: right;\n",
       "    }\n",
       "</style>\n",
       "<table border=\"1\" class=\"dataframe\">\n",
       "  <thead>\n",
       "    <tr style=\"text-align: right;\">\n",
       "      <th></th>\n",
       "      <th>article_ID</th>\n",
       "      <th>publish_date</th>\n",
       "      <th>title</th>\n",
       "      <th>body</th>\n",
       "    </tr>\n",
       "  </thead>\n",
       "  <tbody>\n",
       "    <tr>\n",
       "      <th>208</th>\n",
       "      <td>2000919</td>\n",
       "      <td>2019-03-01 00:01:46</td>\n",
       "      <td>PM Narendra Modi: \"Scientists And Researchers ...</td>\n",
       "      <td>Prime Minister Narendra Modi on Thursday urged...</td>\n",
       "    </tr>\n",
       "    <tr>\n",
       "      <th>207</th>\n",
       "      <td>2000920</td>\n",
       "      <td>2019-03-01 00:01:47</td>\n",
       "      <td>Union Cabinet Approves Setting Up Of AIIMS In ...</td>\n",
       "      <td>The Union Cabinet on Thursday approved setting...</td>\n",
       "    </tr>\n",
       "    <tr>\n",
       "      <th>206</th>\n",
       "      <td>2000923</td>\n",
       "      <td>2019-03-01 00:12:25</td>\n",
       "      <td>Afghan Man Trying To Smuggle 32 kg Gold In Fru...</td>\n",
       "      <td>In a big haul, the Customs Department on Thurs...</td>\n",
       "    </tr>\n",
       "    <tr>\n",
       "      <th>205</th>\n",
       "      <td>2000924</td>\n",
       "      <td>2019-03-01 00:13:17</td>\n",
       "      <td>China Says North Korean Nuclear Issue Can't Be...</td>\n",
       "      <td>Beijing expressed hope Thursday that the US an...</td>\n",
       "    </tr>\n",
       "    <tr>\n",
       "      <th>204</th>\n",
       "      <td>2000925</td>\n",
       "      <td>2019-03-01 00:21:56</td>\n",
       "      <td>CRPF Soldier Injured In Pulwama Attack Returns...</td>\n",
       "      <td>Two weeks after he was injured in the Pulwama ...</td>\n",
       "    </tr>\n",
       "  </tbody>\n",
       "</table>\n",
       "</div>"
      ],
      "text/plain": [
       "     article_ID  ...                                               body\n",
       "208     2000919  ...  Prime Minister Narendra Modi on Thursday urged...\n",
       "207     2000920  ...  The Union Cabinet on Thursday approved setting...\n",
       "206     2000923  ...  In a big haul, the Customs Department on Thurs...\n",
       "205     2000924  ...  Beijing expressed hope Thursday that the US an...\n",
       "204     2000925  ...  Two weeks after he was injured in the Pulwama ...\n",
       "\n",
       "[5 rows x 4 columns]"
      ]
     },
     "execution_count": 8,
     "metadata": {
      "tags": []
     },
     "output_type": "execute_result"
    }
   ],
   "source": [
    "df.head()"
   ]
  },
  {
   "cell_type": "code",
   "execution_count": 0,
   "metadata": {
    "colab": {},
    "colab_type": "code",
    "id": "nDPCHKsrLTHi"
   },
   "outputs": [],
   "source": [
    "# pd.to_pickle(df, './drive/My Drive/clean_data.pkl')"
   ]
  },
  {
   "cell_type": "code",
   "execution_count": 0,
   "metadata": {
    "colab": {},
    "colab_type": "code",
    "id": "PWOz9htn3y4W"
   },
   "outputs": [],
   "source": [
    "# Helper Functions\n",
    "\n",
    "def article_to_words(articles):\n",
    "    '''tokenizes articles; yeilds list of words for each article'''\n",
    "    for article in articles:\n",
    "        yield(gensim.utils.simple_preprocess(article, deacc=True))  # deacc=True removes punctuations\n",
    "        \n",
    "def remove_stopwords(texts):\n",
    "    stop_words = stopwords.words('english')\n",
    "    stop_words.extend(['from', 'subject', 're', 'edu', 'use', 'say', 'also', 'would', 'may'])\n",
    "    return [[word for word in simple_preprocess(str(doc)) if word not in stop_words] for doc in texts]\n",
    "\n",
    "def make_bigrams(texts):\n",
    "    '''Applies the bigram model(defined below) on each document'''\n",
    "    return [bigram_mod[doc] for doc in texts]\n",
    "\n",
    "nlp = spacy.load('en', disable=['parser', 'ner'])\n",
    "def lemmatization(texts, allowed_postags=['NOUN', 'ADJ', 'VERB', 'ADV']):\n",
    "    texts_out = []\n",
    "    for sent in texts:\n",
    "        doc = nlp(\" \".join(sent))\n",
    "        texts_out.append([token.lemma_ for token in doc if token.pos_ in allowed_postags])\n",
    "    return texts_out"
   ]
  },
  {
   "cell_type": "code",
   "execution_count": 0,
   "metadata": {
    "colab": {},
    "colab_type": "code",
    "id": "WxH5MnTo2N2m"
   },
   "outputs": [],
   "source": [
    "def preprocess(df):\n",
    "    '''\n",
    "    Input: clean dataframe\n",
    "    Output: list of articles after preprocess, bigram model\n",
    "    '''\n",
    "    \n",
    "    articles = list(df['body'])                                          # Corpus of content of all articles\n",
    "    data_words = list(article_to_words(articles))                        # Each article is a list of all it's words after \"simple_preprocess\"\n",
    "    \n",
    "    common_terms = [\"of\", \"with\", \"without\", \"and\", \"or\", \"the\", \"a\"]\n",
    "    bigram = gensim.models.Phrases(data_words, \n",
    "                                   min_count=4, \n",
    "                                   threshold=30, \n",
    "                                   common_terms=common_terms)            # higher threshold fewer phrases.\n",
    "    bigram_mod = gensim.models.phrases.Phraser(bigram)                   # wrapper\n",
    "    \n",
    "    return data_words, bigram_mod"
   ]
  },
  {
   "cell_type": "code",
   "execution_count": 0,
   "metadata": {
    "colab": {},
    "colab_type": "code",
    "id": "LzjjQ5MktJ5f"
   },
   "outputs": [],
   "source": [
    "data_words, bigram_mod = preprocess(df)\n",
    "\n",
    "data_words_lemmatized = lemmatization(data_words)\n",
    "data_words_nostops = remove_stopwords(data_words_lemmatized)\n",
    "data_final = make_bigrams(data_words_nostops)"
   ]
  },
  {
   "cell_type": "markdown",
   "metadata": {
    "colab_type": "text",
    "id": "rlrLTeTgpHXv"
   },
   "source": [
    "**Side notes**\n",
    " - The threshold parameter in bigram model:  \n",
    " A phrase of words a and b is accepted if \n",
    "        (cnt(a, b) - min_count) * N / (cnt(a) * cnt(b)) > threshold\n",
    " So basically, higher threshold implies that it is phrases with high frequency will be identified.\n",
    " \n",
    " - The common_terms parametet in bigram model:  \n",
    " List of “stop words” that won’t affect frequency count of expressions containing them. Allow to detect expressions like “bank_of_america” or “eye_of_the_beholder”."
   ]
  },
  {
   "cell_type": "code",
   "execution_count": 0,
   "metadata": {
    "colab": {},
    "colab_type": "code",
    "id": "A5jrAjC7_7b6"
   },
   "outputs": [],
   "source": [
    "word_dict = corpora.Dictionary(data_final)\n",
    "\n",
    "# Bag of words (Document Term Frequency)\n",
    "# list of tuples for each doc- (id,frequency) of word in that document\n",
    "corpus = [word_dict.doc2bow(text) for text in data_final] "
   ]
  },
  {
   "cell_type": "markdown",
   "metadata": {
    "colab_type": "text",
    "id": "pAc1AXIK-4Wb"
   },
   "source": [
    "## MODELLING"
   ]
  },
  {
   "cell_type": "markdown",
   "metadata": {
    "colab_type": "text",
    "id": "kzCexOaS85a1"
   },
   "source": [
    "### Topic Modelling with LDA"
   ]
  },
  {
   "cell_type": "code",
   "execution_count": 0,
   "metadata": {
    "colab": {
     "base_uri": "https://localhost:8080/",
     "height": 102
    },
    "colab_type": "code",
    "id": "zdHr61RZcnEU",
    "outputId": "8595a172-942d-4fae-cbad-d6bc5fe1d150"
   },
   "outputs": [
    {
     "name": "stdout",
     "output_type": "stream",
     "text": [
      "5\n",
      "10\n",
      "15\n",
      "20\n",
      "25\n"
     ]
    }
   ],
   "source": [
    "def compute_coherence_values(dictionary, corpus, texts, limit, start=2, step=3):\n",
    "    \"\"\"\n",
    "    Compute c_v coherence for various number of topics\n",
    "\n",
    "    Parameters:\n",
    "    ----------\n",
    "    dictionary : Gensim dictionary\n",
    "    corpus : Gensim corpus\n",
    "    texts : List of input texts\n",
    "    limit : Max num of topics\n",
    "\n",
    "    Returns:\n",
    "    -------\n",
    "    model_list : List of LDA topic models`\n",
    "    coherence_values : Coherence values corresponding to the LDA model with respective number of topics\n",
    "    \"\"\"\n",
    "    coherence_values = []\n",
    "    model_list = []\n",
    "    for num_topics in range(start, limit, step):\n",
    "        model = gensim.models.LdaMulticore(corpus=corpus,\n",
    "                                           id2word=word_dict,\n",
    "                                           num_topics=num_topics,\n",
    "                                           random_state=100,\n",
    "                                           passes=20,\n",
    "                                           per_word_topics=True,\n",
    "                                           workers=25)\n",
    "        model_list.append(model)\n",
    "        coherencemodel = gensim.models.CoherenceModel(model=model, texts=texts, dictionary=dictionary, coherence='c_v')\n",
    "        coherence_values.append(coherencemodel.get_coherence())\n",
    "        print(num_topics)\n",
    "\n",
    "    return model_list, coherence_values\n",
    "\n",
    "start=5; limit=30; step=5\n",
    "model_list, coherence_values = compute_coherence_values(dictionary=word_dict, corpus=corpus, texts=data_final, start=start, limit=limit, step=step)"
   ]
  },
  {
   "cell_type": "code",
   "execution_count": 0,
   "metadata": {
    "colab": {
     "base_uri": "https://localhost:8080/",
     "height": 283
    },
    "colab_type": "code",
    "id": "Mqi26LJfhaHa",
    "outputId": "300d053b-be94-4efd-ef4d-602f78fe53c5"
   },
   "outputs": [
    {
     "data": {
      "image/png": "[encoded data removed]",
      "text/plain": [
       "<Figure size 432x288 with 1 Axes>"
      ]
     },
     "metadata": {
      "tags": []
     },
     "output_type": "display_data"
    }
   ],
   "source": [
    "import matplotlib.pyplot as plt\n",
    "x = range(start, limit, step)\n",
    "plt.plot(x, coherence_values)\n",
    "plt.xlabel(\"Num Topics\")\n",
    "plt.ylabel(\"Coherence score\")\n",
    "plt.legend((\"coherence_values\"), loc='best')\n",
    "plt.show()"
   ]
  },
  {
   "cell_type": "markdown",
   "metadata": {
    "colab_type": "text",
    "id": "cLifzQCl9CSh"
   },
   "source": [
    "The coherence value seems to be highest (~0.52) for 15 topics"
   ]
  },
  {
   "cell_type": "code",
   "execution_count": 0,
   "metadata": {
    "colab": {},
    "colab_type": "code",
    "id": "D5tb0xcJ-4RE"
   },
   "outputs": [],
   "source": [
    "model_lda = model_list[coherence_values.index(max(coherence_values))]  # Model with highest coherence\n",
    "# model_lda.show_topics(-1)\n",
    "\n",
    "# Saving model to disk\n",
    "temp_file = datapath(\"model_lda\")\n",
    "model_lda.save(temp_file)\n",
    "\n",
    "# To load from disk: model_lda = LdaModel.load(temp_file)"
   ]
  },
  {
   "cell_type": "markdown",
   "metadata": {
    "colab_type": "text",
    "id": "3vVO9Hrw9JGu"
   },
   "source": [
    "### Doc2Vec"
   ]
  },
  {
   "cell_type": "code",
   "execution_count": 0,
   "metadata": {
    "colab": {},
    "colab_type": "code",
    "id": "dcT2Karc7CMO"
   },
   "outputs": [],
   "source": [
    "def doc2vec(data_final):\n",
    "    '''\n",
    "    Input: Cleaned and preprocessed data\n",
    "    Output: doc2vec model trained on given data\n",
    "    '''\n",
    "    \n",
    "    tagged_data = [TaggedDocument(words=words, tags=[str(i)]) for i, words in enumerate(data_final)]  # tagging documents\n",
    "    model = Doc2Vec(tagged_data, window=4, min_count=1, workers=10)\n",
    "    \n",
    "    return model"
   ]
  },
  {
   "cell_type": "code",
   "execution_count": 0,
   "metadata": {
    "colab": {},
    "colab_type": "code",
    "id": "nfnwgdRW_Gb6"
   },
   "outputs": [],
   "source": [
    "model_doc2vec = doc2vec(data_final)\n",
    "\n",
    "# Saving model to disk\n",
    "fname = get_tmpfile(\"model_doc2vec\")\n",
    "model_doc2vec.save(fname)\n",
    "\n",
    "# To load from disk: model = Doc2Vec.load(fname)"
   ]
  },
  {
   "cell_type": "code",
   "execution_count": 0,
   "metadata": {
    "colab": {},
    "colab_type": "code",
    "id": "--nbUalAj_Oa"
   },
   "outputs": [],
   "source": [
    "def update_models(new_raw_data, model_lda):\n",
    "    '''\n",
    "    Updates the LDA and Doc2Vec model given new raw data\n",
    "    Input:  new raw data in .pkl format, old lda model\n",
    "    Output: new lda model, new d2v model\n",
    "    '''\n",
    "    \n",
    "    global raw_df\n",
    "    \n",
    "    new_raw_combined = pd.concat([new_raw_data, raw_df])                            # Combining original data and new data\n",
    "    \n",
    "    # cleaning\n",
    "    new_df_combined = clean_data(new_raw_combined)                                  # combined                                 \n",
    "    new_df = clean_data(new_raw_data)                                               # only new\n",
    "    \n",
    "    # preprocessing\n",
    "    # combined\n",
    "    data_words_combined, bigram_mod_combined = preprocess(new_df_combined)\n",
    "\n",
    "    data_words_lemmatized_combined = lemmatization(data_words_combined)       \n",
    "    data_words_nostops_combined = remove_stopwords(data_words_lemmatized_combined) \n",
    "    data_final_combined = make_bigrams(data_words_nostops_combined)\n",
    "    \n",
    "    # only new\n",
    "    data_words, bigram_mod = preprocess(new_df)\n",
    "    \n",
    "    data_words_lemmatized = lemmatization(data_words)       \n",
    "    data_words_nostops = remove_stopwords(data_words_lemmatized) \n",
    "    data_final = make_bigrams(data_words_nostops)\n",
    "    \n",
    "    # Updating the LDA model with the new corpus (only new)\n",
    "    new_word_dict = corpora.Dictionary(data_final)\n",
    "    new_corpus = [new_word_dict.doc2bow(text) for text in data_final]                # Bag of words (Document Term Frequency)\n",
    "    model_lda.update(new_corpus)\n",
    "    \n",
    "    # Currently, there is no way to update a pretrained doc2vec model so we need to retrain the whole thing (combined)\n",
    "    new_doc2vec = doc2vec(data_final_combined)\n",
    "    \n",
    "    return model_lda, new_doc2vec"
   ]
  }
 ],
 "metadata": {
  "accelerator": "GPU",
  "colab": {
   "collapsed_sections": [
    "lD1IMPO796z9",
    "kzCexOaS85a1",
    "3vVO9Hrw9JGu"
   ],
   "name": "articles.ipynb",
   "provenance": [],
   "version": "0.3.2"
  },
  "kernelspec": {
   "display_name": "Python 3",
   "language": "python",
   "name": "python3"
  },
  "language_info": {
   "codemirror_mode": {
    "name": "ipython",
    "version": 3
   },
   "file_extension": ".py",
   "mimetype": "text/x-python",
   "name": "python",
   "nbconvert_exporter": "python",
   "pygments_lexer": "ipython3",
   "version": "3.6.6"
  }
 },
 "nbformat": 4,
 "nbformat_minor": 1
}
